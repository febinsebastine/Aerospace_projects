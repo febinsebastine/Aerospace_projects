{
 "cells": [
  {
   "cell_type": "code",
   "execution_count": null,
   "id": "135c8fa3-2666-42fe-9dc9-cd232b82c7d4",
   "metadata": {},
   "outputs": [],
   "source": []
  }
 ],
 "metadata": {
  "kernelspec": {
   "display_name": "",
   "name": ""
  },
  "language_info": {
   "name": ""
  }
 },
 "nbformat": 4,
 "nbformat_minor": 5
}
